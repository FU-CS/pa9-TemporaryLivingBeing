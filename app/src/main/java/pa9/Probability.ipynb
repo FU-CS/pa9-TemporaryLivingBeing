{
 "cells": [
  {
   "cell_type": "code",
   "execution_count": 4,
   "metadata": {},
   "outputs": [
    {
     "name": "stdout",
     "output_type": "stream",
     "text": [
      "                 elite  non-elite did not play     TOTAL\n",
      "arthritis           10          9         24       43\n",
      "no arthritis        61        206        548      815\n",
      "TOTAL               71        215        572      858\n",
      "done\n"
     ]
    }
   ],
   "source": [
    "def construct():\n",
    "  \"\"\"Returns a tuple consisting of:\n",
    "    row descriptors,\n",
    "    column descriptors,\n",
    "    and data\n",
    "    from the example\"\"\"\n",
    "  row_names = ['arthritis', 'no arthritis']\n",
    "  col_names = ['elite', 'non-elite', 'did not play']\n",
    "  data = [[10, 9, 24], [61, 206, 548]]\n",
    "  return (row_names, col_names, data)\n",
    "\n",
    "def row_marginal(rows, data):\n",
    "  \"\"\"Computes the marginal distribution for all row-values\n",
    "  returned as a Dictionary<String, Integer>\"\"\"\n",
    "  # TODO\n",
    "  result = {}\n",
    "  for i in range(len(rows)):\n",
    "    result[rows[i]] = sum(data[i])\n",
    "  return result\n",
    "\n",
    "def col_marginal(cols, data):\n",
    "  \"\"\"Computes the marginal distribution for all column-values\n",
    "  returned as a Dictionary<String, Integer>\"\"\"\n",
    "  # TODO\n",
    "  result = {}\n",
    "  for j in range(len(cols)):\n",
    "    result[cols[j]] = sum(row[j] for row in data)\n",
    "  return result\n",
    "\n",
    "def compute_total(data):\n",
    "  \"\"\"Computes the total of all values in the data table.\"\"\"\n",
    "  # TODO\n",
    "  return sum(sum(row) for row in data)\n",
    "\n",
    "def joint_prob(rows, cols, data, row_var, col_var):\n",
    "  \"\"\"Computes a joint probability for a given combination of row value and column value.\"\"\"\n",
    "  # TODO\n",
    "  row_idx = rows.index(row_var)\n",
    "  col_idx = cols.index(col_var)\n",
    "  return data[row_idx][col_idx] / compute_total(data)\n",
    "\n",
    "def table_to_string(rows, cols, data, r_marg, col_marg, total):\n",
    "  \"\"\"Constructs a string representation of a two-way table in a semi-reasonable structure.\"\"\"\n",
    "  # TODO\n",
    "  result = \" \" * 12\n",
    "  for col in cols:\n",
    "    result += f\"{col:>10} \"\n",
    "  result += \"    TOTAL\\n\"\n",
    "\n",
    "  for i in range(len(rows)):\n",
    "    result += f\"{rows[i]:<12}\"\n",
    "    for j in range(len(cols)):\n",
    "      result += f\"{data[i][j]:>10} \"\n",
    "    result += f\"{r_marg[rows[i]]:>8}\\n\"\n",
    "\n",
    "  result += \"TOTAL\".ljust(12)\n",
    "  for col in cols:\n",
    "    result += f\"{col_marg[col]:>10} \"\n",
    "  result += f\"{total:>8}\"\n",
    "  return result\n",
    "\n",
    "def main():\n",
    "  rows, cols, data = construct()\n",
    "  assert joint_prob(rows, cols, data, 'arthritis', 'elite') == 10 / 858\n",
    "  assert joint_prob(rows, cols, data, 'no arthritis', 'did not play') == 548 / 858\n",
    "  assert row_marginal(rows, data)['arthritis'] == 43\n",
    "  assert row_marginal(rows, data)['no arthritis'] == 815\n",
    "  assert col_marginal(cols, data)['elite'] == 71\n",
    "  assert col_marginal(cols, data)['non-elite'] == 215\n",
    "  assert col_marginal(cols, data)['did not play'] == 572\n",
    "  print(table_to_string(rows, cols, data, row_marginal(rows, data),\n",
    "                        col_marginal(cols, data), compute_total(data)))\n",
    "  print('done')\n",
    "\n",
    "if __name__ == \"__main__\":\n",
    "  main()"
   ]
  },
  {
   "cell_type": "code",
   "execution_count": 11,
   "metadata": {},
   "outputs": [
    {
     "name": "stdout",
     "output_type": "stream",
     "text": [
      "done\n"
     ]
    }
   ],
   "source": [
    "def conditional_prob(rows, cols, data, value, given_val):\n",
    "  \"\"\"Computes the conditional probability: P(value | given_val)\"\"\"\n",
    "  # TODO\n",
    "  r_marg = row_marginal(rows, data)\n",
    "  c_marg = col_marginal(cols, data)\n",
    "\n",
    "  if value in rows and given_val in cols:\n",
    "    row_idx = rows.index(value)\n",
    "    col_idx = cols.index(given_val)\n",
    "    return data[row_idx][col_idx] / c_marg[given_val]\n",
    "\n",
    "  if value in cols and given_val in rows:\n",
    "    row_idx = rows.index(given_val)\n",
    "    col_idx = cols.index(value) \n",
    "    return data[row_idx][col_idx] / r_marg[given_val]\n",
    "    \n",
    "def main():\n",
    "  rows, cols, data = construct()\n",
    "                    \n",
    "  assert conditional_prob(rows, cols, data, 'elite', 'arthritis') == 10 / 43\n",
    "  assert conditional_prob(rows, cols, data, 'arthritis', 'elite') == 10 / 71\n",
    "  # TODO\n",
    "  assert conditional_prob(rows, cols, data, 'non-elite', 'arthritis') == 9 / 43  \n",
    "  assert conditional_prob(rows, cols, data, 'arthritis', 'non-elite') == 9 / 215\n",
    "  assert conditional_prob(rows, cols, data, 'did not play', 'no arthritis') == 548 / 815\n",
    "  assert conditional_prob(rows, cols, data, 'no arthritis', 'did not play') == 548 / 572\n",
    "  print('done')\n",
    "\n",
    "if __name__ == \"__main__\":\n",
    "  main()"
   ]
  }
 ],
 "metadata": {
  "kernelspec": {
   "display_name": "myenv",
   "language": "python",
   "name": "python3"
  },
  "language_info": {
   "codemirror_mode": {
    "name": "ipython",
    "version": 3
   },
   "file_extension": ".py",
   "mimetype": "text/x-python",
   "name": "python",
   "nbconvert_exporter": "python",
   "pygments_lexer": "ipython3",
   "version": "3.12.6"
  }
 },
 "nbformat": 4,
 "nbformat_minor": 2
}
